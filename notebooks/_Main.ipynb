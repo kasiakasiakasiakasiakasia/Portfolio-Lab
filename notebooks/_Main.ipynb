
# Running ..
otebooks_Pobieranie_danych.ipynb
%run ..
otebooks_Pobieranie_danych.ipynb

# Running ..
otebooks_Inicjowanie_bazy_danych.ipynb
%run ..
otebooks_Inicjowanie_bazy_danych.ipynb

# Running ..
otebooks_Populacja_bazy_danych.ipynb
%run ..
otebooks_Populacja_bazy_danych.ipynb

# Running ..
otebooks_Analiza_danych_01.ipynb
%run ..
otebooks_Analiza_danych_01.ipynb

# Running ..
otebooks_Analiza_danych_02.ipynb
%run ..
otebooks_Analiza_danych_02.ipynb

# Running ..
otebooks_Analiza_danych_03.ipynb
%run ..
otebooks_Analiza_danych_03.ipynb

# Running ..
otebooks_Budowa_schematu_reporting.ipynb
%run ..
otebooks_Budowa_schematu_reporting.ipynb

# Running ..
otebooks_Dashboard.ipynb
%run ..
otebooks_Dashboard.ipynb
