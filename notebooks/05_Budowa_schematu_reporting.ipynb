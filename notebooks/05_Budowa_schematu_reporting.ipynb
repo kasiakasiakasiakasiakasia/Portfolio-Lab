{
 "cells": [
  {
   "cell_type": "markdown",
   "metadata": {},
   "source": [
    " # Opis notatnika\n",
    " Analiza przygotowana w poprzednim kroku została odebrana pozytywnie. W związku z tym, zostaliśmy poproszeni\n",
    " o przygotowanie raportu na podstawie danych z roku 2020. Ma być on później  wdrożony przez zespół IT na zewnętrzny\n",
    " serwis. Wybór padł na `Dash`.\n",
    "\n",
    " Zadanie wykonamy w dwóch krokach:  \n",
    " 1. Znając wymagania raportu, stworzymy na bazie danych odpowiednie komponenty, które zostaną następnie wykorzystane do wizualizacji.  \n",
    " 1. Stworzymy raport używając `Dash`.\n",
    "\n",
    " Ten notatnik skupia się na odpowiednim przygotowaniu bazy danych pod cele raportowe.\n",
    " \n",
    " W tej części projektu końcowego wcielasz się w rolę BI Engineera, który ma za zadanie stworzyć raport zgodny z wytycznymi biznesowymi dostarczonymi przez klienta."
   ]
  },
  {
   "cell_type": "markdown",
   "metadata": {},
   "source": [
    " # Wymagania biznesowe\n",
    " Po prezentacji wyników analizy na niezależnym spotkaniu, zostały określone następujące obszary raportowania odsetka opóźnień lotów:  \n",
    " 1. Wyświetlanie TOP 10 (w sensie najwyższego odsetka opóźnień) lotnisk na podstawie liczby odlotów, wyświetlona ma być również informacja o liczbie przylotów - widok `top_airports_by_departure`.  \n",
    " 1. Wyświetlenie TOP 10 (w sensie najwyższego odsetka opóźnień) tras lotów. Przy czym istotna dla nas jest kolejność, przykładowo trasa (Warszawa, Paryż) jest inna niż (Paryż, Warszawa). Dodatkowym wymaganiem jest, aby minimalna liczba lotów odbytych na trasie wynosiła co najmniej 10000 przelotów - widok `top_reliability_roads`.  \n",
    " 1. Porównanie roku 2019 vs. 2020, aby śledzić wpływ COVID na realizację lotów. Interesują nas podejścia:  \n",
    "     - miesiąc do miesiąca, przykładowo odsetek opoźnień styczeń 2019 vs. odsetek opoźnień styczeń 2020, odsetek opoźnień luty 2019 vs. odsetek opoźnień luty 2020 itd. - widok `year_to_year_comparision`,  \n",
    "     - dzień do dnia, przykładowo odsetek opoźnień wtorek 2019 vs. odsetek opoźnień wtorek 2020 - widok `day_to_day_comparision`.  \n",
    " 1. Dzienny, czyli jak danego dnia, globalnie wyglądał wskaźnik opóźnień lotów samolotu, tj. odsetek opóźnień 01-01-2019, odsetek opóźnień 02-01-2019 itd."
   ]
  },
  {
   "cell_type": "markdown",
   "metadata": {},
   "source": [
    " # Podejście techniczne do problemu\n",
    " Naszym celem będzie odseparowanie warstwy przygotowania danych (logika raportu) od warstwy prezentacyjnej (wizualizacja).\n",
    " Chcemy zapewnić, aby odpowiednie procesy zajmowały się tylko swoimi zadaniami. \n",
    " \n",
    " > W tym podejściu warstwa prezentacyjna (wykres/raport) nie implementuje logiki biznesowej w celu przetwarzania danych. Innymi słowy, nie chcemy aby przykładowo agregacja była wykonywana w momencie tworzenia wizualizacji.\n",
    "\n",
    " To podejście będzie spójne ze współczesnym sposobem projektowania aplikacji. Ma to też dodatkowy benefit - ze względu na wolumen danych na bazie, nie musimy ich najpierw pobierać - warstwa logiczna je odpowiednio zagreguje i przekaże zdecydowanie mniejszą liczbę wierszy, co przyśpieszy działanie całości.\n",
    "\n",
    " > Logika działania tego notebooka jest zbieżna z tą, którą robiliśmy już na przykładzie `Inicjowania bazy danych` - warto mieć go pod ręką."
   ]
  },
  {
   "cell_type": "markdown",
   "metadata": {},
   "source": [
    " # Przygotowanie bazy danych\n",
    " Na bazie danych, gdzie umieszczone są już dane, wszystko zawarte jest na schemacie `public`. Ponieważ zgodnie z wymaganiami otrzymujemy nowy obszar wykorzystania danych, stworzymy sobie schemat dedykowany - `reporting`.  \n",
    " Dalej stworzymy widoki, które odpowiedzą na zadane wcześniej pytania.\n",
    "\n",
    " > Stworzenie dedykowanego schematu ma więcej korzyści niż nam się wydaje, w ten sposób możemy łatwo wprowadzić zabezpieczenie na dane, które chcemy udostępniać.\n",
    "\n",
    " ## Stworzenie dedykowanego schematu\n",
    " W pliku `reporting.sql` napisz kwerendę, która stworzy (o ile już nie istnieje) schemat `reporting`.\n",
    " Ten temat nie był omawiany w trakcie trwania kursu, jednak łatwo można uzupełnić wiedzę czytając np. [ten](https://www.postgresqltutorial.com/postgresql-administration/postgresql-create-schema/) samouczek."
   ]
  },
  {
   "cell_type": "markdown",
   "metadata": {},
   "source": [
    " # Aktualizacja bazy danych\n",
    " W tym miejscu odpowiednio skonfiguruj połączenie do bazy danych."
   ]
  },
  {
   "cell_type": "markdown",
   "metadata": {},
   "source": [
    " Tutaj zaimportuj potrzebne biblioteki"
   ]
  },
  {
   "cell_type": "code",
   "execution_count": 23,
   "metadata": {},
   "outputs": [],
   "source": [
    "from psycopg2 import connect, extensions"
   ]
  },
  {
   "cell_type": "markdown",
   "metadata": {},
   "source": [
    " ## Konfiguracja połączenia\n",
    " Tutaj uzupełnij konfigurację połączenia"
   ]
  },
  {
   "cell_type": "code",
   "execution_count": 24,
   "metadata": {},
   "outputs": [],
   "source": [
    "username = 'postgres'\n",
    "password = '123'\n",
    "\n",
    "host = 'localhost'\n",
    "database = 'airlines'\n",
    "port = None"
   ]
  },
  {
   "cell_type": "markdown",
   "metadata": {},
   "source": [
    " Tutaj zdefiniuj zmienną `con` oraz `cursor`"
   ]
  },
  {
   "cell_type": "code",
   "execution_count": 25,
   "metadata": {},
   "outputs": [],
   "source": [
    "con = connect(\n",
    "    host=host,\n",
    "    user=username,\n",
    "    password=password,\n",
    "    database=database\n",
    ")\n",
    "\n",
    "cursor = con.cursor()"
   ]
  },
  {
   "cell_type": "markdown",
   "metadata": {},
   "source": [
    " ## Wczytanie pliku `reporting.sql`\n",
    " Z katalogu `sql` wczytaj plik `reporting.sql`"
   ]
  },
  {
   "cell_type": "code",
   "execution_count": 26,
   "metadata": {},
   "outputs": [],
   "source": [
    "with open(r'..\\sql\\reporting.sql') as reporting_file:\n",
    "    reporting_txt = reporting_file.read()"
   ]
  },
  {
   "cell_type": "markdown",
   "metadata": {},
   "source": [
    " W tym miejscu odpowiednio rozdziel zawartość pliku `reporting.sql` na mniejsze kwerendy używając `;`"
   ]
  },
  {
   "cell_type": "code",
   "execution_count": 27,
   "metadata": {},
   "outputs": [
    {
     "name": "stdout",
     "output_type": "stream",
     "text": [
      "['/*\\nTutaj zdefiniuj schemę `reporting`\\n*/\\nCREATE SCHEMA IF NOT EXISTS reporting', '\\n/*\\nTutaj napisz definicję widoku reporting.flight, która:\\n- będzie usuwać dane o lotach anulowanych `cancelled = 0`\\n- będzie zawierać kolumnę `is_delayed`, zgodnie z wcześniejszą definicją tj. `is_delayed = 1 if dep_delay_new > 0 else 0` (zaimplementowana w SQL)\\n\\nWskazówka:\\n- SQL - analiza danych > Dzień 4 Proceduralny SQL > Wyrażenia warunkowe\\n- SQL - analiza danych > Przygotowanie do zjazdu 2 > Widoki\\n*/\\nCREATE OR REPLACE VIEW reporting.flight AS\\nSELECT *, \\n  CASE\\n    WHEN dep_delay_new > 0 THEN 1\\n    ELSE 0\\n  END AS is_delayed\\nFROM public.flight\\nWHERE cancelled = 0', '\\n/*\\nTutaj napisz definicję widoku reporting.top_reliability_roads, która będzie zawierała następujące kolumny:\\n- `origin_airport_id`,\\n- `origin_airport_name`,\\n- `dest_airport_id`,\\n- `dest_airport_name`,\\n- `year`,\\n- `cnt` - jako liczba wykonananych lotów na danej trasie,\\n- `reliability` - jako odsetek opóźnień na danej trasie,\\n- `nb` - numerowane od 1, 2, 3 według kolumny `reliability`. W przypadku takich samych wartości powino zwrócić 1, 2, 2, 3... \\nPamiętaj o tym, że w wyniku powinny pojawić się takie trasy, na których odbyło się ponad 10000 lotów.\\n\\nWskazówka:\\n- SQL - analiza danych > Dzień 2 Relacje oraz JOIN > JOIN\\n- SQL - analiza danych > Dzień 3 - Analiza danych > Grupowanie\\n- SQL - analiza danych > Dzień 1 Podstawy SQL > Aliasowanie\\n- SQL - analiza danych > Dzień 1 Podstawy SQL > Podzapytania\\n*/\\nCREATE OR REPLACE VIEW reporting.top_reliability_roads AS\\nWith top10 as(\\nWITH CTE AS\\n(select\\n \\torigin_airport_id,\\n \\tdest_airport_id,\\n \\tcount(*) as cnt,\\n \\tROUND(SUM(is_delayed)::numeric / count(*),2) as delayed_ratio_reliability, \\n \\tyear\\nfrom reporting.flight\\ngroup by origin_airport_id, dest_airport_id, year)\\nSELECT  origin_airport_id, dest_airport_id, cnt, delayed_ratio_reliability, year FROM CTE\\nWHERE CTE.cnt > 10000\\nORDER BY CTE.delayed_ratio_reliability DESC)\\nSELECT\\n\\ttop10.origin_airport_id,\\n\\tal_dep.display_airport_name as origin_airport_name,\\n\\ttop10.dest_airport_id,\\n\\tal_dest.display_airport_name as dest_airport_name,\\n\\ttop10.cnt,\\n\\ttop10.delayed_ratio_reliability,\\n\\ttop10.year,\\n\\tDENSE_RANK() OVER (ORDER BY top10.delayed_ratio_reliability DESC) as nb\\nFROM top10\\nLEFT JOIN airport_list AS al_dep USING(origin_airport_id)\\nLEFT JOIN airport_list AS al_dest ON al_dest.origin_airport_id = top10.dest_airport_id', '\\n/*\\nTutaj napisz definicję widoku reporting.year_to_year_comparision, która będzie zawierał następujące kolumny:\\n- `year`\\n- `month`,\\n- `flights_amount`\\n- `reliability`\\n*/\\nCREATE OR REPLACE VIEW reporting.year_to_year_comparision AS\\nSELECT\\n    year,\\n    month,\\n    SUM(is_delayed) AS flights_amount,\\n    count(*) as total,\\n\\tROUND(SUM(is_delayed)::numeric / count(*), 2) as not_reliable_ratio\\nFROM reporting.flight\\nGROUP BY year, month\\nORDER BY year, month', '\\n/*\\nTutaj napisz definicję widoku reporting.day_to_day_comparision, który będzie zawierał następujące kolumny:\\n- `year`\\n- `day_of_week`\\n- `flights_amount`\\n*/\\nCREATE OR REPLACE VIEW reporting.day_to_day_comparision AS\\nSELECT\\n    year,\\n    day_of_week,\\n    SUM(is_delayed) AS flights_amount,\\n    count(*) as total,\\n\\tROUND(SUM(is_delayed)::numeric / count(*), 2) as not_reliable_ratio\\nFROM reporting.flight\\nGROUP BY year, day_of_week\\nORDER BY year, day_of_week', \"\\n/*\\nTutaj napisz definicję widoku reporting.day_by_day_reliability, ktory będzie zawierał następujące kolumny:\\n- `date` jako złożenie kolumn `year`, `month`, `day`, powinna być typu `date`\\n- `reliability` jako odsetek opóźnień danego dnia\\n\\nWskazówki:\\n- formaty dat w postgresql: [klik](https://www.postgresql.org/docs/13/functions-formatting.html),\\n- jeśli chcesz dodać zera na początek liczby np. `1` > `01`, posłuż się metodą `LPAD`: [przykład](https://stackoverflow.com/questions/26379446/padding-zeros-to-the-left-in-postgresql),\\n- do konwertowania ciągu znaków na datę najwygodniej w Postgres użyć `to_date`: [przykład](https://www.postgresqltutorial.com/postgresql-date-functions/postgresql-to_date/)\\n- do złączenia kilku kolumn / wartości typu string, używa się operatora `||`, przykładowo: SELECT 'a' || 'b' as example\\n\\nUwaga: Nie dodawaj tutaj na końcu srednika - przy używaniu split, pojawi się pusta kwerenda, co będzie skutkowało późniejszym błędem przy próbie wykonania skryptu z poziomu notatnika.\\n*/\\nDROP VIEW IF EXISTS reporting.day_by_day_reliability\", \"\\nCREATE OR REPLACE VIEW reporting.day_by_day_reliability AS\\nSELECT\\n    to_date(year || '-' || month || '-' || day_of_month, 'YYYY-MM-DD') as date_column,\\n\\tROUND(SUM(is_delayed)::numeric / count(*), 2) as not_reliable_ratio\\nFROM reporting.flight\\nGROUP BY date_column\\norder by not_reliable_ratio desc\"]\n"
     ]
    }
   ],
   "source": [
    "reporting_commands = reporting_txt.split(';')\n",
    "print(reporting_commands)"
   ]
  },
  {
   "cell_type": "markdown",
   "metadata": {},
   "source": [
    " W tym miejscu wykonaj każdą z kwerend, aby zainicjować strukturę bazy danych"
   ]
  },
  {
   "cell_type": "code",
   "execution_count": 28,
   "metadata": {},
   "outputs": [
    {
     "name": "stdout",
     "output_type": "stream",
     "text": [
      "/*\n",
      "Tutaj zdefiniuj schemę `reporting`\n",
      "*/\n",
      "CREATE SCHEMA IF NOT EXISTS reporting\n",
      "\n",
      "/*\n",
      "Tutaj napisz definicję widoku reporting.flight, która:\n",
      "- będzie usuwać dane o lotach anulowanych `cancelled = 0`\n",
      "- będzie zawierać kolumnę `is_delayed`, zgodnie z wcześniejszą definicją tj. `is_delayed = 1 if dep_delay_new > 0 else 0` (zaimplementowana w SQL)\n",
      "\n",
      "Wskazówka:\n",
      "- SQL - analiza danych > Dzień 4 Proceduralny SQL > Wyrażenia warunkowe\n",
      "- SQL - analiza danych > Przygotowanie do zjazdu 2 > Widoki\n",
      "*/\n",
      "CREATE OR REPLACE VIEW reporting.flight AS\n",
      "SELECT *, \n",
      "  CASE\n",
      "    WHEN dep_delay_new > 0 THEN 1\n",
      "    ELSE 0\n",
      "  END AS is_delayed\n",
      "FROM public.flight\n",
      "WHERE cancelled = 0\n",
      "\n",
      "/*\n",
      "Tutaj napisz definicję widoku reporting.top_reliability_roads, która będzie zawierała następujące kolumny:\n",
      "- `origin_airport_id`,\n",
      "- `origin_airport_name`,\n",
      "- `dest_airport_id`,\n",
      "- `dest_airport_name`,\n",
      "- `year`,\n",
      "- `cnt` - jako liczba wykonananych lotów na danej trasie,\n",
      "- `reliability` - jako odsetek opóźnień na danej trasie,\n",
      "- `nb` - numerowane od 1, 2, 3 według kolumny `reliability`. W przypadku takich samych wartości powino zwrócić 1, 2, 2, 3... \n",
      "Pamiętaj o tym, że w wyniku powinny pojawić się takie trasy, na których odbyło się ponad 10000 lotów.\n",
      "\n",
      "Wskazówka:\n",
      "- SQL - analiza danych > Dzień 2 Relacje oraz JOIN > JOIN\n",
      "- SQL - analiza danych > Dzień 3 - Analiza danych > Grupowanie\n",
      "- SQL - analiza danych > Dzień 1 Podstawy SQL > Aliasowanie\n",
      "- SQL - analiza danych > Dzień 1 Podstawy SQL > Podzapytania\n",
      "*/\n",
      "CREATE OR REPLACE VIEW reporting.top_reliability_roads AS\n",
      "With top10 as(\n",
      "WITH CTE AS\n",
      "(select\n",
      " \torigin_airport_id,\n",
      " \tdest_airport_id,\n",
      " \tcount(*) as cnt,\n",
      " \tROUND(SUM(is_delayed)::numeric / count(*),2) as delayed_ratio_reliability, \n",
      " \tyear\n",
      "from reporting.flight\n",
      "group by origin_airport_id, dest_airport_id, year)\n",
      "SELECT  origin_airport_id, dest_airport_id, cnt, delayed_ratio_reliability, year FROM CTE\n",
      "WHERE CTE.cnt > 10000\n",
      "ORDER BY CTE.delayed_ratio_reliability DESC)\n",
      "SELECT\n",
      "\ttop10.origin_airport_id,\n",
      "\tal_dep.display_airport_name as origin_airport_name,\n",
      "\ttop10.dest_airport_id,\n",
      "\tal_dest.display_airport_name as dest_airport_name,\n",
      "\ttop10.cnt,\n",
      "\ttop10.delayed_ratio_reliability,\n",
      "\ttop10.year,\n",
      "\tDENSE_RANK() OVER (ORDER BY top10.delayed_ratio_reliability DESC) as nb\n",
      "FROM top10\n",
      "LEFT JOIN airport_list AS al_dep USING(origin_airport_id)\n",
      "LEFT JOIN airport_list AS al_dest ON al_dest.origin_airport_id = top10.dest_airport_id\n",
      "\n",
      "/*\n",
      "Tutaj napisz definicję widoku reporting.year_to_year_comparision, która będzie zawierał następujące kolumny:\n",
      "- `year`\n",
      "- `month`,\n",
      "- `flights_amount`\n",
      "- `reliability`\n",
      "*/\n",
      "CREATE OR REPLACE VIEW reporting.year_to_year_comparision AS\n",
      "SELECT\n",
      "    year,\n",
      "    month,\n",
      "    SUM(is_delayed) AS flights_amount,\n",
      "    count(*) as total,\n",
      "\tROUND(SUM(is_delayed)::numeric / count(*), 2) as not_reliable_ratio\n",
      "FROM reporting.flight\n",
      "GROUP BY year, month\n",
      "ORDER BY year, month\n",
      "\n",
      "/*\n",
      "Tutaj napisz definicję widoku reporting.day_to_day_comparision, który będzie zawierał następujące kolumny:\n",
      "- `year`\n",
      "- `day_of_week`\n",
      "- `flights_amount`\n",
      "*/\n",
      "CREATE OR REPLACE VIEW reporting.day_to_day_comparision AS\n",
      "SELECT\n",
      "    year,\n",
      "    day_of_week,\n",
      "    SUM(is_delayed) AS flights_amount,\n",
      "    count(*) as total,\n",
      "\tROUND(SUM(is_delayed)::numeric / count(*), 2) as not_reliable_ratio\n",
      "FROM reporting.flight\n",
      "GROUP BY year, day_of_week\n",
      "ORDER BY year, day_of_week\n",
      "\n",
      "/*\n",
      "Tutaj napisz definicję widoku reporting.day_by_day_reliability, ktory będzie zawierał następujące kolumny:\n",
      "- `date` jako złożenie kolumn `year`, `month`, `day`, powinna być typu `date`\n",
      "- `reliability` jako odsetek opóźnień danego dnia\n",
      "\n",
      "Wskazówki:\n",
      "- formaty dat w postgresql: [klik](https://www.postgresql.org/docs/13/functions-formatting.html),\n",
      "- jeśli chcesz dodać zera na początek liczby np. `1` > `01`, posłuż się metodą `LPAD`: [przykład](https://stackoverflow.com/questions/26379446/padding-zeros-to-the-left-in-postgresql),\n",
      "- do konwertowania ciągu znaków na datę najwygodniej w Postgres użyć `to_date`: [przykład](https://www.postgresqltutorial.com/postgresql-date-functions/postgresql-to_date/)\n",
      "- do złączenia kilku kolumn / wartości typu string, używa się operatora `||`, przykładowo: SELECT 'a' || 'b' as example\n",
      "\n",
      "Uwaga: Nie dodawaj tutaj na końcu srednika - przy używaniu split, pojawi się pusta kwerenda, co będzie skutkowało późniejszym błędem przy próbie wykonania skryptu z poziomu notatnika.\n",
      "*/\n",
      "DROP VIEW IF EXISTS reporting.day_by_day_reliability\n",
      "\n",
      "CREATE OR REPLACE VIEW reporting.day_by_day_reliability AS\n",
      "SELECT\n",
      "    to_date(year || '-' || month || '-' || day_of_month, 'YYYY-MM-DD') as date_column,\n",
      "\tROUND(SUM(is_delayed)::numeric / count(*), 2) as not_reliable_ratio\n",
      "FROM reporting.flight\n",
      "GROUP BY date_column\n",
      "order by not_reliable_ratio desc\n"
     ]
    }
   ],
   "source": [
    "for command in reporting_commands:\n",
    "    print(command)\n",
    "    cursor.execute(command)"
   ]
  },
  {
   "cell_type": "markdown",
   "metadata": {},
   "source": [
    " Zatwierdzenie wszystkich operacji na bazie, czyli stworzenie widoków"
   ]
  },
  {
   "cell_type": "code",
   "execution_count": 29,
   "metadata": {},
   "outputs": [],
   "source": [
    "con.commit()"
   ]
  },
  {
   "cell_type": "markdown",
   "metadata": {},
   "source": [
    " ### Sprawdzenie"
   ]
  },
  {
   "cell_type": "code",
   "execution_count": 30,
   "metadata": {},
   "outputs": [],
   "source": [
    "# Ten kod chyba wygląda znajomo....\n",
    "# istnienie widoków możemy sprawdzić tak samo jak tabele\n",
    "def check_if_table_exists(table_name):\n",
    "    msg = f\"Sprawdzam czy istnieje tabela {table_name}\"\n",
    "    print(msg)\n",
    "\n",
    "    query = f\"select 1 from {table_name}\"\n",
    "    # jeżeli tabela nie istnieje, ten krok zwróci wyjątek\n",
    "    cursor.execute(query)\n",
    "    print('OK!')"
   ]
  },
  {
   "cell_type": "code",
   "execution_count": 31,
   "metadata": {},
   "outputs": [],
   "source": [
    "views_to_test = [\n",
    "    'reporting.flight',\n",
    "    'reporting.top_reliability_roads',\n",
    "    'reporting.year_to_year_comparision',\n",
    "    'reporting.day_to_day_comparision',\n",
    "    'reporting.day_by_day_reliability'\n",
    "]"
   ]
  },
  {
   "cell_type": "code",
   "execution_count": 32,
   "metadata": {},
   "outputs": [
    {
     "name": "stdout",
     "output_type": "stream",
     "text": [
      "Sprawdzam czy istnieje tabela reporting.flight\n",
      "OK!\n",
      "Sprawdzam czy istnieje tabela reporting.top_reliability_roads\n",
      "OK!\n",
      "Sprawdzam czy istnieje tabela reporting.year_to_year_comparision\n",
      "OK!\n",
      "Sprawdzam czy istnieje tabela reporting.day_to_day_comparision\n",
      "OK!\n",
      "Sprawdzam czy istnieje tabela reporting.day_by_day_reliability\n",
      "OK!\n"
     ]
    }
   ],
   "source": [
    "for view in views_to_test:\n",
    "    check_if_table_exists(view)"
   ]
  },
  {
   "cell_type": "code",
   "execution_count": 33,
   "metadata": {},
   "outputs": [
    {
     "name": "stdout",
     "output_type": "stream",
     "text": [
      "Wszystko wygląda OK :) Możesz przejść do kolejnego zadania.\n"
     ]
    }
   ],
   "source": [
    "con.close()\n",
    "msg = \"Wszystko wygląda OK :) Możesz przejść do kolejnego zadania.\"\n",
    "print(msg)"
   ]
  },
  {
   "cell_type": "markdown",
   "metadata": {},
   "source": [
    " # Podsumownie\n",
    " W tym notatniku stworzyliśmy nowy schemat - `reporting`, którego zadaniem jest przygotowanie naszych danych\n",
    " do wizualizacji. Dalsza część pracy będzie polegała na wyświetleniu w wizualnie atrakcyjny sposób danych w interaktywnym raporcie stworzonym\n",
    " z pomocą `Dash`."
   ]
  }
 ],
 "metadata": {
  "kernelspec": {
   "display_name": "Python 3 (ipykernel)",
   "language": "python",
   "name": "python3"
  },
  "language_info": {
   "codemirror_mode": {
    "name": "ipython",
    "version": 3
   },
   "file_extension": ".py",
   "mimetype": "text/x-python",
   "name": "python",
   "nbconvert_exporter": "python",
   "pygments_lexer": "ipython3",
   "version": "3.10.11"
  },
  "vscode": {
   "interpreter": {
    "hash": "38d75d0df746d7f75dd34c5d1915af59cb55786647bd68b8d9064425d7680b12"
   }
  }
 },
 "nbformat": 4,
 "nbformat_minor": 2
}
